{
 "cells": [
  {
   "cell_type": "markdown",
   "metadata": {},
   "source": [
    "# Problem statement:"
   ]
  },
  {
   "cell_type": "markdown",
   "metadata": {},
   "source": [
    "Idioms make up part of why natural languages are ambigious in meaning. This is why identifying idiomatic meaning in n-grams is an important NLP task in applications such as, for example, sentiment analysis and machine translation."
   ]
  },
  {
   "cell_type": "markdown",
   "metadata": {},
   "source": [
    "# Import libraries:"
   ]
  },
  {
   "cell_type": "code",
   "execution_count": 136,
   "metadata": {
    "_cell_guid": "b1076dfc-b9ad-4769-8c92-a6c4dae69d19",
    "_uuid": "8f2839f25d086af736a60e9eeb907d3b93b6e0e5"
   },
   "outputs": [],
   "source": [
    "import numpy as np\n",
    "import pandas as pd\n",
    "\n",
    "import matplotlib.pyplot as plt\n",
    "import seaborn as sns\n",
    "\n",
    "import missingno as msno\n",
    "\n",
    "from nltk import ngrams\n",
    "from nltk.corpus import stopwords\n",
    "from nltk.corpus import words\n",
    "from nltk.tokenize import word_tokenize \n",
    "from nltk.tokenize import sent_tokenize \n",
    "from nltk.stem import WordNetLemmatizer \n",
    "lemmatizer = WordNetLemmatizer()\n",
    "import re\n",
    "import string\n",
    "\n",
    "import spacy\n",
    "import en_core_web_sm\n",
    "spacy_en_model = en_core_web_sm.load()\n",
    "#spacy_en_model = spacy.load('en_core_web_sm') - doesn't work, problem is related to the way spaCy detects installed packages\n",
    "\n",
    "from sklearn import preprocessing"
   ]
  },
  {
   "cell_type": "markdown",
   "metadata": {},
   "source": [
    "# Data gathering:"
   ]
  },
  {
   "cell_type": "code",
   "execution_count": 19,
   "metadata": {},
   "outputs": [],
   "source": [
    "import requests\n",
    "from bs4 import BeautifulSoup\n",
    "\n",
    "from string import ascii_lowercase"
   ]
  },
  {
   "cell_type": "markdown",
   "metadata": {},
   "source": [
    "## Web-scrape English idiom list:"
   ]
  },
  {
   "cell_type": "code",
   "execution_count": 20,
   "metadata": {},
   "outputs": [],
   "source": [
    "def scrape_7esl():\n",
    "    \n",
    "    eng_idioms = []\n",
    "    \n",
    "    url = \"https://7esl.com/english-idioms/\"\n",
    "    response = requests.get(url)\n",
    "    if response.status_code == 200:\n",
    "        soup = BeautifulSoup(response.text, \"html.parser\")\n",
    "        \n",
    "        idiom_alphabet_list = soup.find('div', {'class':'elementor-toggle'})\n",
    "        \n",
    "        for idiom_tab in idiom_alphabet_list.find_all('tr'):\n",
    "            try:\n",
    "                idiom = idiom_tab.find('strong')\n",
    "                eng_idioms.append(idiom.get_text())\n",
    "            except Exception:\n",
    "                pass\n",
    "                    \n",
    "    return eng_idioms\n",
    "    "
   ]
  },
  {
   "cell_type": "code",
   "execution_count": 21,
   "metadata": {},
   "outputs": [],
   "source": [
    "def scrape_usingenglish():\n",
    "    \n",
    "    eng_idioms = []\n",
    "    \n",
    "    for letter in ascii_lowercase:\n",
    "        url = \"https://www.usingenglish.com/reference/idioms/{}.html\".format(letter)\n",
    "        response = requests.get(url)\n",
    "        \n",
    "        if response.status_code == 200:\n",
    "            soup = BeautifulSoup(response.text, \"html.parser\")\n",
    "        \n",
    "            for idiom in soup.find_all('li', {'class' : 'list-group-item'}):\n",
    "                try:\n",
    "                    idiom_text = idiom.get_text()\n",
    "                    eng_idioms.append(idiom_text)\n",
    "                except Exception:\n",
    "                    pass\n",
    "                \n",
    "        for i in range(2, 10):\n",
    "            try:\n",
    "                url = \"https://www.usingenglish.com/reference/idioms/{}.html?page={}\".format(letter, i)\n",
    "                response = requests.get(url)\n",
    "\n",
    "                if response.status_code == 200:\n",
    "                    soup = BeautifulSoup(response.text, \"html.parser\")\n",
    "\n",
    "                    for idiom in soup.find_all('li', {'class' : 'list-group-item'}):\n",
    "                        try:\n",
    "                            idiom_text = idiom.get_text()\n",
    "                            eng_idioms.append(idiom_text)\n",
    "                        except Exception:\n",
    "                            pass\n",
    "            except Exception:\n",
    "                pass\n",
    "                \n",
    "                    \n",
    "    return eng_idioms\n",
    "    "
   ]
  },
  {
   "cell_type": "code",
   "execution_count": 22,
   "metadata": {},
   "outputs": [],
   "source": [
    "idiom_list_7esl = scrape_7esl()\n",
    "idiom_list_usingenglish = scrape_usingenglish()\n",
    "\n",
    "idiom_list = idiom_list_7esl + idiom_list_usingenglish"
   ]
  },
  {
   "cell_type": "code",
   "execution_count": 64,
   "metadata": {},
   "outputs": [
    {
     "data": {
      "text/plain": [
       "['A Bit Much',\n",
       " 'A Bite at The Cherry',\n",
       " 'A Busy Bee',\n",
       " 'A Cat Has Nine Lives',\n",
       " 'A Cat in Gloves Catches No Mice',\n",
       " 'A Cat Nap',\n",
       " 'A Cold Day In July',\n",
       " 'A Cold Fish',\n",
       " 'A Cut Above',\n",
       " 'A Cut Below']"
      ]
     },
     "execution_count": 64,
     "metadata": {},
     "output_type": "execute_result"
    }
   ],
   "source": [
    "idiom_list[:10]"
   ]
  },
  {
   "cell_type": "code",
   "execution_count": 65,
   "metadata": {},
   "outputs": [],
   "source": [
    "idioms_df = pd.DataFrame({'Sentence': '',\n",
    "              'N-gram' : idiom_list, \n",
    "                'Idiom' : 1\n",
    "              })"
   ]
  },
  {
   "cell_type": "code",
   "execution_count": 66,
   "metadata": {},
   "outputs": [
    {
     "data": {
      "text/html": [
       "<div>\n",
       "<style scoped>\n",
       "    .dataframe tbody tr th:only-of-type {\n",
       "        vertical-align: middle;\n",
       "    }\n",
       "\n",
       "    .dataframe tbody tr th {\n",
       "        vertical-align: top;\n",
       "    }\n",
       "\n",
       "    .dataframe thead th {\n",
       "        text-align: right;\n",
       "    }\n",
       "</style>\n",
       "<table border=\"1\" class=\"dataframe\">\n",
       "  <thead>\n",
       "    <tr style=\"text-align: right;\">\n",
       "      <th></th>\n",
       "      <th>Sentence</th>\n",
       "      <th>N-gram</th>\n",
       "      <th>Idiom</th>\n",
       "    </tr>\n",
       "  </thead>\n",
       "  <tbody>\n",
       "    <tr>\n",
       "      <th>466</th>\n",
       "      <td></td>\n",
       "      <td>Drink the Kool-Aid</td>\n",
       "      <td>1</td>\n",
       "    </tr>\n",
       "    <tr>\n",
       "      <th>3566</th>\n",
       "      <td></td>\n",
       "      <td>Like father, like son</td>\n",
       "      <td>1</td>\n",
       "    </tr>\n",
       "    <tr>\n",
       "      <th>1229</th>\n",
       "      <td></td>\n",
       "      <td>Take The Mickey (Piss) (Out Of Someone)</td>\n",
       "      <td>1</td>\n",
       "    </tr>\n",
       "    <tr>\n",
       "      <th>5407</th>\n",
       "      <td></td>\n",
       "      <td>Written in stone</td>\n",
       "      <td>1</td>\n",
       "    </tr>\n",
       "    <tr>\n",
       "      <th>1041</th>\n",
       "      <td></td>\n",
       "      <td>Rank and File</td>\n",
       "      <td>1</td>\n",
       "    </tr>\n",
       "    <tr>\n",
       "      <th>3355</th>\n",
       "      <td></td>\n",
       "      <td>Jump ship</td>\n",
       "      <td>1</td>\n",
       "    </tr>\n",
       "    <tr>\n",
       "      <th>2627</th>\n",
       "      <td></td>\n",
       "      <td>Flowery speech</td>\n",
       "      <td>1</td>\n",
       "    </tr>\n",
       "    <tr>\n",
       "      <th>189</th>\n",
       "      <td></td>\n",
       "      <td>Back in the Day</td>\n",
       "      <td>1</td>\n",
       "    </tr>\n",
       "    <tr>\n",
       "      <th>2085</th>\n",
       "      <td></td>\n",
       "      <td>Champagne taste on a beer budget</td>\n",
       "      <td>1</td>\n",
       "    </tr>\n",
       "    <tr>\n",
       "      <th>3730</th>\n",
       "      <td></td>\n",
       "      <td>Memory like an elephant</td>\n",
       "      <td>1</td>\n",
       "    </tr>\n",
       "  </tbody>\n",
       "</table>\n",
       "</div>"
      ],
      "text/plain": [
       "     Sentence                                   N-gram  Idiom\n",
       "466                                 Drink the Kool-Aid      1\n",
       "3566                             Like father, like son      1\n",
       "1229           Take The Mickey (Piss) (Out Of Someone)      1\n",
       "5407                                  Written in stone      1\n",
       "1041                                     Rank and File      1\n",
       "3355                                         Jump ship      1\n",
       "2627                                    Flowery speech      1\n",
       "189                                    Back in the Day      1\n",
       "2085                  Champagne taste on a beer budget      1\n",
       "3730                           Memory like an elephant      1"
      ]
     },
     "execution_count": 66,
     "metadata": {},
     "output_type": "execute_result"
    }
   ],
   "source": [
    "idioms_df.sample(10)"
   ]
  },
  {
   "cell_type": "markdown",
   "metadata": {},
   "source": [
    "## Web-scrape list of non-idiomatic n-grams:"
   ]
  },
  {
   "cell_type": "markdown",
   "metadata": {},
   "source": [
    "Here I am web-scraping the Project Gutenberg publication of A Christmas Carol by Charles Dickens (https://www.gutenberg.org/files/46/46-0.txt), before splitting the text up into n-grams of length 2-5. I am preserving the sentence of each n-gram for context, should it become useful in the project."
   ]
  },
  {
   "cell_type": "code",
   "execution_count": 24,
   "metadata": {},
   "outputs": [],
   "source": [
    "def book_scrape():\n",
    "    \n",
    "    url = \"https://www.gutenberg.org/files/46/46-0.txt\"\n",
    "    response = requests.get(url)\n",
    "    if response.status_code == 200:\n",
    "        soup = BeautifulSoup(response.text, \"html.parser\")\n",
    "        \n",
    "        book_text = soup.get_text()\n",
    "        \n",
    "        # Clean book text\n",
    "        book_text = re.sub(r'\\r+', ' ', book_text)\n",
    "        book_text = re.sub(r'\\n+', ' ', book_text)\n",
    "        book_text = re.sub(r'\\s+', ' ', book_text)\n",
    "        book_text = book_text.split('MARLEY\\'S GHOST')[1]\n",
    "        book_text = book_text.split('End of the Project Gutenberg EBook')[0]\n",
    "        \n",
    "    else:\n",
    "        book_text = ''\n",
    "    \n",
    "    return book_text\n",
    "    "
   ]
  },
  {
   "cell_type": "code",
   "execution_count": 25,
   "metadata": {},
   "outputs": [],
   "source": [
    "book_text = book_scrape()"
   ]
  },
  {
   "cell_type": "code",
   "execution_count": 67,
   "metadata": {},
   "outputs": [],
   "source": [
    "import random\n",
    "\n",
    "book_sents = []\n",
    "n_grams = []\n",
    "\n",
    "for sent in sent_tokenize(book_text):\n",
    "    words = word_tokenize(sent)\n",
    "    \n",
    "    n = random.randint(2, 5)\n",
    "    \n",
    "    grams = ngrams(words, n)\n",
    "    for gram in grams:\n",
    "        book_sents.append(sent)\n",
    "        n_grams.append(' '.join(gram))\n",
    "    #words = word_tokenize(sent):\n",
    "        \n",
    "        #book_sents.append(sent)\n",
    "        #n_grams.append(n_gram)\n",
    "    "
   ]
  },
  {
   "cell_type": "code",
   "execution_count": 68,
   "metadata": {},
   "outputs": [],
   "source": [
    "non_idioms_df = pd.DataFrame({'Sentence': book_sents,\n",
    "              'N-gram' : n_grams, \n",
    "                'Idiom' : 0\n",
    "              })"
   ]
  },
  {
   "cell_type": "code",
   "execution_count": 69,
   "metadata": {},
   "outputs": [
    {
     "data": {
      "text/html": [
       "<div>\n",
       "<style scoped>\n",
       "    .dataframe tbody tr th:only-of-type {\n",
       "        vertical-align: middle;\n",
       "    }\n",
       "\n",
       "    .dataframe tbody tr th {\n",
       "        vertical-align: top;\n",
       "    }\n",
       "\n",
       "    .dataframe thead th {\n",
       "        text-align: right;\n",
       "    }\n",
       "</style>\n",
       "<table border=\"1\" class=\"dataframe\">\n",
       "  <thead>\n",
       "    <tr style=\"text-align: right;\">\n",
       "      <th></th>\n",
       "      <th>Sentence</th>\n",
       "      <th>N-gram</th>\n",
       "      <th>Idiom</th>\n",
       "    </tr>\n",
       "  </thead>\n",
       "  <tbody>\n",
       "    <tr>\n",
       "      <th>10924</th>\n",
       "      <td>Away they all went, twenty couple at once; han...</td>\n",
       "      <td>; old top couple always</td>\n",
       "      <td>0</td>\n",
       "    </tr>\n",
       "    <tr>\n",
       "      <th>7627</th>\n",
       "      <td>It was a strange figure--like a child: yet not...</td>\n",
       "      <td>so like</td>\n",
       "      <td>0</td>\n",
       "    </tr>\n",
       "    <tr>\n",
       "      <th>9589</th>\n",
       "      <td>The panels shrunk, the windows cracked; fragme...</td>\n",
       "      <td>how all this was</td>\n",
       "      <td>0</td>\n",
       "    </tr>\n",
       "    <tr>\n",
       "      <th>11689</th>\n",
       "      <td>The happiness he gives, is quite as great as i...</td>\n",
       "      <td>quite as great</td>\n",
       "      <td>0</td>\n",
       "    </tr>\n",
       "    <tr>\n",
       "      <th>14496</th>\n",
       "      <td>Its dark brown curls were long and free; free ...</td>\n",
       "      <td>open hand</td>\n",
       "      <td>0</td>\n",
       "    </tr>\n",
       "    <tr>\n",
       "      <th>24828</th>\n",
       "      <td>Sheets and towels, a little wearing apparel, t...</td>\n",
       "      <td>sugar-tongs , and a few</td>\n",
       "      <td>0</td>\n",
       "    </tr>\n",
       "    <tr>\n",
       "      <th>27822</th>\n",
       "      <td>He paused to look round before entering.</td>\n",
       "      <td>to look round</td>\n",
       "      <td>0</td>\n",
       "    </tr>\n",
       "    <tr>\n",
       "      <th>1416</th>\n",
       "      <td>\"There are many things from which I might have...</td>\n",
       "      <td>, I dare</td>\n",
       "      <td>0</td>\n",
       "    </tr>\n",
       "    <tr>\n",
       "      <th>1896</th>\n",
       "      <td>\"There's another fellow,\" muttered Scrooge; wh...</td>\n",
       "      <td>; who overheard him :</td>\n",
       "      <td>0</td>\n",
       "    </tr>\n",
       "    <tr>\n",
       "      <th>28370</th>\n",
       "      <td>Heaven, and the Christmas Time be praised for ...</td>\n",
       "      <td>for this</td>\n",
       "      <td>0</td>\n",
       "    </tr>\n",
       "  </tbody>\n",
       "</table>\n",
       "</div>"
      ],
      "text/plain": [
       "                                                Sentence  \\\n",
       "10924  Away they all went, twenty couple at once; han...   \n",
       "7627   It was a strange figure--like a child: yet not...   \n",
       "9589   The panels shrunk, the windows cracked; fragme...   \n",
       "11689  The happiness he gives, is quite as great as i...   \n",
       "14496  Its dark brown curls were long and free; free ...   \n",
       "24828  Sheets and towels, a little wearing apparel, t...   \n",
       "27822           He paused to look round before entering.   \n",
       "1416   \"There are many things from which I might have...   \n",
       "1896   \"There's another fellow,\" muttered Scrooge; wh...   \n",
       "28370  Heaven, and the Christmas Time be praised for ...   \n",
       "\n",
       "                        N-gram  Idiom  \n",
       "10924  ; old top couple always      0  \n",
       "7627                   so like      0  \n",
       "9589          how all this was      0  \n",
       "11689           quite as great      0  \n",
       "14496                open hand      0  \n",
       "24828  sugar-tongs , and a few      0  \n",
       "27822            to look round      0  \n",
       "1416                  , I dare      0  \n",
       "1896     ; who overheard him :      0  \n",
       "28370                 for this      0  "
      ]
     },
     "execution_count": 69,
     "metadata": {},
     "output_type": "execute_result"
    }
   ],
   "source": [
    "non_idioms_df.sample(10)"
   ]
  },
  {
   "cell_type": "code",
   "execution_count": 70,
   "metadata": {},
   "outputs": [],
   "source": [
    "data = pd.concat([idioms_df, non_idioms_df])\n",
    "# Shuffle DataFrame rows\n",
    "data = data.sample(frac=1)"
   ]
  },
  {
   "cell_type": "code",
   "execution_count": 71,
   "metadata": {},
   "outputs": [
    {
     "data": {
      "text/html": [
       "<div>\n",
       "<style scoped>\n",
       "    .dataframe tbody tr th:only-of-type {\n",
       "        vertical-align: middle;\n",
       "    }\n",
       "\n",
       "    .dataframe tbody tr th {\n",
       "        vertical-align: top;\n",
       "    }\n",
       "\n",
       "    .dataframe thead th {\n",
       "        text-align: right;\n",
       "    }\n",
       "</style>\n",
       "<table border=\"1\" class=\"dataframe\">\n",
       "  <thead>\n",
       "    <tr style=\"text-align: right;\">\n",
       "      <th></th>\n",
       "      <th>Sentence</th>\n",
       "      <th>N-gram</th>\n",
       "      <th>Idiom</th>\n",
       "    </tr>\n",
       "  </thead>\n",
       "  <tbody>\n",
       "    <tr>\n",
       "      <th>4028</th>\n",
       "      <td></td>\n",
       "      <td>On the rocks</td>\n",
       "      <td>1</td>\n",
       "    </tr>\n",
       "    <tr>\n",
       "      <th>900</th>\n",
       "      <td></td>\n",
       "      <td>Neck and Neck</td>\n",
       "      <td>1</td>\n",
       "    </tr>\n",
       "    <tr>\n",
       "      <th>10070</th>\n",
       "      <td>Here he produced a decanter of curiously light...</td>\n",
       "      <td>, who answered that he</td>\n",
       "      <td>0</td>\n",
       "    </tr>\n",
       "    <tr>\n",
       "      <th>867</th>\n",
       "      <td></td>\n",
       "      <td>Make Hay (While the Sun Shines)</td>\n",
       "      <td>1</td>\n",
       "    </tr>\n",
       "    <tr>\n",
       "      <th>11643</th>\n",
       "      <td>He has the power to render us happy or unhappy...</td>\n",
       "      <td>happy or unhappy ; to</td>\n",
       "      <td>0</td>\n",
       "    </tr>\n",
       "    <tr>\n",
       "      <th>3495</th>\n",
       "      <td></td>\n",
       "      <td>Lay waste</td>\n",
       "      <td>1</td>\n",
       "    </tr>\n",
       "    <tr>\n",
       "      <th>24882</th>\n",
       "      <td>If you asked me for another penny, and made it...</td>\n",
       "      <td>I 'd repent of being</td>\n",
       "      <td>0</td>\n",
       "    </tr>\n",
       "    <tr>\n",
       "      <th>25571</th>\n",
       "      <td>Oh cold, cold, rigid, dreadful Death, set up t...</td>\n",
       "      <td>cold , cold , rigid</td>\n",
       "      <td>0</td>\n",
       "    </tr>\n",
       "    <tr>\n",
       "      <th>12665</th>\n",
       "      <td>The noise in this room was perfectly tumultuou...</td>\n",
       "      <td>every child was conducting itself</td>\n",
       "      <td>0</td>\n",
       "    </tr>\n",
       "    <tr>\n",
       "      <th>14471</th>\n",
       "      <td>Its feet, observable beneath the ample folds o...</td>\n",
       "      <td>, set here and there</td>\n",
       "      <td>0</td>\n",
       "    </tr>\n",
       "  </tbody>\n",
       "</table>\n",
       "</div>"
      ],
      "text/plain": [
       "                                                Sentence  \\\n",
       "4028                                                       \n",
       "900                                                        \n",
       "10070  Here he produced a decanter of curiously light...   \n",
       "867                                                        \n",
       "11643  He has the power to render us happy or unhappy...   \n",
       "3495                                                       \n",
       "24882  If you asked me for another penny, and made it...   \n",
       "25571  Oh cold, cold, rigid, dreadful Death, set up t...   \n",
       "12665  The noise in this room was perfectly tumultuou...   \n",
       "14471  Its feet, observable beneath the ample folds o...   \n",
       "\n",
       "                                  N-gram  Idiom  \n",
       "4028                        On the rocks      1  \n",
       "900                        Neck and Neck      1  \n",
       "10070             , who answered that he      0  \n",
       "867      Make Hay (While the Sun Shines)      1  \n",
       "11643              happy or unhappy ; to      0  \n",
       "3495                           Lay waste      1  \n",
       "24882               I 'd repent of being      0  \n",
       "25571                cold , cold , rigid      0  \n",
       "12665  every child was conducting itself      0  \n",
       "14471               , set here and there      0  "
      ]
     },
     "execution_count": 71,
     "metadata": {},
     "output_type": "execute_result"
    }
   ],
   "source": [
    "data.sample(10)"
   ]
  },
  {
   "cell_type": "markdown",
   "metadata": {},
   "source": [
    "# Preprocessing and feature engineering:"
   ]
  },
  {
   "cell_type": "markdown",
   "metadata": {},
   "source": [
    "## Clean text:"
   ]
  },
  {
   "cell_type": "code",
   "execution_count": 72,
   "metadata": {},
   "outputs": [
    {
     "data": {
      "text/html": [
       "<div>\n",
       "<style scoped>\n",
       "    .dataframe tbody tr th:only-of-type {\n",
       "        vertical-align: middle;\n",
       "    }\n",
       "\n",
       "    .dataframe tbody tr th {\n",
       "        vertical-align: top;\n",
       "    }\n",
       "\n",
       "    .dataframe thead th {\n",
       "        text-align: right;\n",
       "    }\n",
       "</style>\n",
       "<table border=\"1\" class=\"dataframe\">\n",
       "  <thead>\n",
       "    <tr style=\"text-align: right;\">\n",
       "      <th></th>\n",
       "      <th>Sentence</th>\n",
       "      <th>N-gram</th>\n",
       "      <th>Idiom</th>\n",
       "    </tr>\n",
       "  </thead>\n",
       "  <tbody>\n",
       "    <tr>\n",
       "      <th>2328</th>\n",
       "      <td></td>\n",
       "      <td>Dirty dog</td>\n",
       "      <td>1</td>\n",
       "    </tr>\n",
       "    <tr>\n",
       "      <th>3580</th>\n",
       "      <td>The hair was curiously stirred, as if by breath or hot air; and, though the eyes were wide open, they were perfectly motionless.</td>\n",
       "      <td>they were perfectly</td>\n",
       "      <td>0</td>\n",
       "    </tr>\n",
       "    <tr>\n",
       "      <th>27135</th>\n",
       "      <td>\"On which,\" said Bob, \"for he is the pleasantest-spoken gentleman you ever heard, I told him.</td>\n",
       "      <td>you ever heard , I</td>\n",
       "      <td>0</td>\n",
       "    </tr>\n",
       "    <tr>\n",
       "      <th>17872</th>\n",
       "      <td>\"I see a vacant seat,\" replied the Ghost, \"in the poor chimney-corner, and a crutch without an owner, carefully preserved.</td>\n",
       "      <td>the Ghost , `` in</td>\n",
       "      <td>0</td>\n",
       "    </tr>\n",
       "    <tr>\n",
       "      <th>5427</th>\n",
       "      <td>\"It is required of every man,\" the Ghost returned, \"that the spirit within him should walk abroad among his fellowmen, and travel far and wide; an...</td>\n",
       "      <td>wide ; and if that</td>\n",
       "      <td>0</td>\n",
       "    </tr>\n",
       "    <tr>\n",
       "      <th>2653</th>\n",
       "      <td></td>\n",
       "      <td>For Pete's sake</td>\n",
       "      <td>1</td>\n",
       "    </tr>\n",
       "    <tr>\n",
       "      <th>8560</th>\n",
       "      <td>cried Scrooge with fervour; \"I could walk it blindfold.\"</td>\n",
       "      <td>Scrooge with</td>\n",
       "      <td>0</td>\n",
       "    </tr>\n",
       "    <tr>\n",
       "      <th>9279</th>\n",
       "      <td>And the Sultan's Groom turned upside down by the Genii; there he is upon his head!</td>\n",
       "      <td>the Genii ; there he</td>\n",
       "      <td>0</td>\n",
       "    </tr>\n",
       "    <tr>\n",
       "      <th>14201</th>\n",
       "      <td>The crisp leaves of holly, mistletoe, and ivy reflected back the light, as if so many little mirrors had been scattered there; and such a mighty b...</td>\n",
       "      <td>time ,</td>\n",
       "      <td>0</td>\n",
       "    </tr>\n",
       "    <tr>\n",
       "      <th>1204</th>\n",
       "      <td>Scrooge having no better answer ready on the spur of the moment, said, \"Bah!\"</td>\n",
       "      <td>said ,</td>\n",
       "      <td>0</td>\n",
       "    </tr>\n",
       "    <tr>\n",
       "      <th>23049</th>\n",
       "      <td>But there they were, in the heart of it; on 'Change, amongst the merchants; who hurried up and down, and chinked the money in their pockets, and c...</td>\n",
       "      <td>and down ,</td>\n",
       "      <td>0</td>\n",
       "    </tr>\n",
       "    <tr>\n",
       "      <th>30500</th>\n",
       "      <td>He did it all, and infinitely more; and to Tiny Tim, who did NOT die, he was a second father.</td>\n",
       "      <td>second father .</td>\n",
       "      <td>0</td>\n",
       "    </tr>\n",
       "    <tr>\n",
       "      <th>1183</th>\n",
       "      <td>\"What right have you to be dismal?</td>\n",
       "      <td>have you to be dismal</td>\n",
       "      <td>0</td>\n",
       "    </tr>\n",
       "    <tr>\n",
       "      <th>13174</th>\n",
       "      <td>And now Scrooge looked on more attentively than ever, when the master of the house, having his daughter leaning fondly on him, sat down with her a...</td>\n",
       "      <td>at his own fireside</td>\n",
       "      <td>0</td>\n",
       "    </tr>\n",
       "    <tr>\n",
       "      <th>1711</th>\n",
       "      <td>growled Scrooge, as if that were the only one thing in the world more ridiculous than a merry Christmas.</td>\n",
       "      <td>Scrooge , as if</td>\n",
       "      <td>0</td>\n",
       "    </tr>\n",
       "    <tr>\n",
       "      <th>2863</th>\n",
       "      <td>The owner of one scant young nose, gnawed and mumbled by the hungry cold as bones are gnawed by dogs, stooped down at Scrooge's keyhole to regale ...</td>\n",
       "      <td>down at Scrooge</td>\n",
       "      <td>0</td>\n",
       "    </tr>\n",
       "    <tr>\n",
       "      <th>28565</th>\n",
       "      <td>I am as giddy as a drunken man.</td>\n",
       "      <td>a drunken</td>\n",
       "      <td>0</td>\n",
       "    </tr>\n",
       "    <tr>\n",
       "      <th>14564</th>\n",
       "      <td>\"Have never walked forth with the younger members of my family; meaning (for I am very young) my elder brothers born in these later years?\"</td>\n",
       "      <td>members of my family ;</td>\n",
       "      <td>0</td>\n",
       "    </tr>\n",
       "    <tr>\n",
       "      <th>2060</th>\n",
       "      <td></td>\n",
       "      <td>Casting vote</td>\n",
       "      <td>1</td>\n",
       "    </tr>\n",
       "    <tr>\n",
       "      <th>23445</th>\n",
       "      <td>He knew these men, also, perfectly.</td>\n",
       "      <td>men , also</td>\n",
       "      <td>0</td>\n",
       "    </tr>\n",
       "  </tbody>\n",
       "</table>\n",
       "</div>"
      ],
      "text/plain": [
       "                                                                                                                                                    Sentence  \\\n",
       "2328                                                                                                                                                           \n",
       "3580                        The hair was curiously stirred, as if by breath or hot air; and, though the eyes were wide open, they were perfectly motionless.   \n",
       "27135                                                          \"On which,\" said Bob, \"for he is the pleasantest-spoken gentleman you ever heard, I told him.   \n",
       "17872                             \"I see a vacant seat,\" replied the Ghost, \"in the poor chimney-corner, and a crutch without an owner, carefully preserved.   \n",
       "5427   \"It is required of every man,\" the Ghost returned, \"that the spirit within him should walk abroad among his fellowmen, and travel far and wide; an...   \n",
       "2653                                                                                                                                                           \n",
       "8560                                                                                                cried Scrooge with fervour; \"I could walk it blindfold.\"   \n",
       "9279                                                                      And the Sultan's Groom turned upside down by the Genii; there he is upon his head!   \n",
       "14201  The crisp leaves of holly, mistletoe, and ivy reflected back the light, as if so many little mirrors had been scattered there; and such a mighty b...   \n",
       "1204                                                                           Scrooge having no better answer ready on the spur of the moment, said, \"Bah!\"   \n",
       "23049  But there they were, in the heart of it; on 'Change, amongst the merchants; who hurried up and down, and chinked the money in their pockets, and c...   \n",
       "30500                                                          He did it all, and infinitely more; and to Tiny Tim, who did NOT die, he was a second father.   \n",
       "1183                                                                                                                      \"What right have you to be dismal?   \n",
       "13174  And now Scrooge looked on more attentively than ever, when the master of the house, having his daughter leaning fondly on him, sat down with her a...   \n",
       "1711                                                growled Scrooge, as if that were the only one thing in the world more ridiculous than a merry Christmas.   \n",
       "2863   The owner of one scant young nose, gnawed and mumbled by the hungry cold as bones are gnawed by dogs, stooped down at Scrooge's keyhole to regale ...   \n",
       "28565                                                                                                                        I am as giddy as a drunken man.   \n",
       "14564            \"Have never walked forth with the younger members of my family; meaning (for I am very young) my elder brothers born in these later years?\"   \n",
       "2060                                                                                                                                                           \n",
       "23445                                                                                                                    He knew these men, also, perfectly.   \n",
       "\n",
       "                       N-gram  Idiom  \n",
       "2328                Dirty dog      1  \n",
       "3580      they were perfectly      0  \n",
       "27135      you ever heard , I      0  \n",
       "17872       the Ghost , `` in      0  \n",
       "5427       wide ; and if that      0  \n",
       "2653          For Pete's sake      1  \n",
       "8560             Scrooge with      0  \n",
       "9279     the Genii ; there he      0  \n",
       "14201                  time ,      0  \n",
       "1204                   said ,      0  \n",
       "23049              and down ,      0  \n",
       "30500         second father .      0  \n",
       "1183    have you to be dismal      0  \n",
       "13174     at his own fireside      0  \n",
       "1711          Scrooge , as if      0  \n",
       "2863          down at Scrooge      0  \n",
       "28565               a drunken      0  \n",
       "14564  members of my family ;      0  \n",
       "2060             Casting vote      1  \n",
       "23445              men , also      0  "
      ]
     },
     "execution_count": 72,
     "metadata": {},
     "output_type": "execute_result"
    }
   ],
   "source": [
    "pd.options.display.max_colwidth = 150\n",
    "data.iloc[0:20]"
   ]
  },
  {
   "cell_type": "code",
   "execution_count": 78,
   "metadata": {},
   "outputs": [],
   "source": [
    "# Remove columns with punctuation in n-gram\n",
    "data = data[~data['N-gram'].apply(lambda x: any(c in string.punctuation for c in x))]"
   ]
  },
  {
   "cell_type": "code",
   "execution_count": 85,
   "metadata": {},
   "outputs": [],
   "source": [
    "# Remove columns with no alpha characters in n-gram\n",
    "data = data[data['N-gram'].apply(lambda x: any(c.isalpha() for c in x))]"
   ]
  },
  {
   "cell_type": "code",
   "execution_count": 120,
   "metadata": {},
   "outputs": [],
   "source": [
    "# Remove columns with numeric characters in n-gram\n",
    "data = data[~data['N-gram'].apply(lambda x: any(c.isdigit() for c in x))]"
   ]
  },
  {
   "cell_type": "code",
   "execution_count": 121,
   "metadata": {},
   "outputs": [
    {
     "data": {
      "text/plain": [
       "(20636, 4)"
      ]
     },
     "execution_count": 121,
     "metadata": {},
     "output_type": "execute_result"
    }
   ],
   "source": [
    "data.shape"
   ]
  },
  {
   "cell_type": "code",
   "execution_count": 96,
   "metadata": {},
   "outputs": [
    {
     "data": {
      "text/html": [
       "<div>\n",
       "<style scoped>\n",
       "    .dataframe tbody tr th:only-of-type {\n",
       "        vertical-align: middle;\n",
       "    }\n",
       "\n",
       "    .dataframe tbody tr th {\n",
       "        vertical-align: top;\n",
       "    }\n",
       "\n",
       "    .dataframe thead th {\n",
       "        text-align: right;\n",
       "    }\n",
       "</style>\n",
       "<table border=\"1\" class=\"dataframe\">\n",
       "  <thead>\n",
       "    <tr style=\"text-align: right;\">\n",
       "      <th></th>\n",
       "      <th>Sentence</th>\n",
       "      <th>N-gram</th>\n",
       "      <th>Idiom</th>\n",
       "    </tr>\n",
       "  </thead>\n",
       "  <tbody>\n",
       "    <tr>\n",
       "      <th>21770</th>\n",
       "      <td>Here is a glass of mulled wine ready to our hand at the moment; and I say, 'Uncle Scrooge!'\"</td>\n",
       "      <td>I say</td>\n",
       "      <td>0</td>\n",
       "    </tr>\n",
       "    <tr>\n",
       "      <th>30630</th>\n",
       "      <td>His own heart laughed: and that was quite enough for him.</td>\n",
       "      <td>own heart</td>\n",
       "      <td>0</td>\n",
       "    </tr>\n",
       "    <tr>\n",
       "      <th>1939</th>\n",
       "      <td>They were portly gentlemen, pleasant to behold, and now stood, with their hats off, in Scrooge's office.</td>\n",
       "      <td>They were</td>\n",
       "      <td>0</td>\n",
       "    </tr>\n",
       "    <tr>\n",
       "      <th>24719</th>\n",
       "      <td>A seal or two, a pencil-case, a pair of sleeve-buttons, and a brooch of no great value, were all.</td>\n",
       "      <td>A seal or two</td>\n",
       "      <td>0</td>\n",
       "    </tr>\n",
       "    <tr>\n",
       "      <th>1291</th>\n",
       "      <td></td>\n",
       "      <td>Turn Something on Its Head</td>\n",
       "      <td>1</td>\n",
       "    </tr>\n",
       "  </tbody>\n",
       "</table>\n",
       "</div>"
      ],
      "text/plain": [
       "                                                                                                       Sentence  \\\n",
       "21770              Here is a glass of mulled wine ready to our hand at the moment; and I say, 'Uncle Scrooge!'\"   \n",
       "30630                                                 His own heart laughed: and that was quite enough for him.   \n",
       "1939   They were portly gentlemen, pleasant to behold, and now stood, with their hats off, in Scrooge's office.   \n",
       "24719         A seal or two, a pencil-case, a pair of sleeve-buttons, and a brooch of no great value, were all.   \n",
       "1291                                                                                                              \n",
       "\n",
       "                           N-gram  Idiom  \n",
       "21770                       I say      0  \n",
       "30630                   own heart      0  \n",
       "1939                    They were      0  \n",
       "24719               A seal or two      0  \n",
       "1291   Turn Something on Its Head      1  "
      ]
     },
     "execution_count": 96,
     "metadata": {},
     "output_type": "execute_result"
    }
   ],
   "source": [
    "data.sample(5)"
   ]
  },
  {
   "cell_type": "code",
   "execution_count": 99,
   "metadata": {},
   "outputs": [],
   "source": [
    "def custom_preprocessor(text):\n",
    "    \n",
    "    # Make text lowercase\n",
    "    text = text.lower()\n",
    "    \n",
    "    # Remove elisionse\n",
    "    text = re.sub(r\"n\\'t\", \" not\", text)\n",
    "    text = re.sub(r\"\\'re\", \" are\", text)\n",
    "    text = re.sub(r\"\\'s\", \" is\", text)\n",
    "    text = re.sub(r\"\\'d\", \" would\", text)\n",
    "    text = re.sub(r\"\\'ll\", \" will\", text)\n",
    "    text = re.sub(r\"\\'t\", \" not\", text)\n",
    "    text = re.sub(r\"\\'ve\", \" have\", text)\n",
    "    text = re.sub(r\"\\'m\", \" am\", text)\n",
    "    # specific\n",
    "    text = re.sub(r\"won\\'t\", \"will not\", text)\n",
    "    text = re.sub(r\"can\\'t\", \"cannot\", text)\n",
    "    \n",
    "    # Expand abbreviations\n",
    "    # TO DO\n",
    "    \n",
    "    # Remove accents\n",
    "    #text = unidecode.unidecode(text)\n",
    "    \n",
    "    # Remove non-word characters\n",
    "    text = re.sub(\"\\W\",\" \",text)\n",
    "    \n",
    "    # Remove line breaks\n",
    "    text = re.sub('\\n', '', text)\n",
    "    \n",
    "    # Remove emojis\n",
    "    emoji_pattern = re.compile(\"[\"\n",
    "                           u\"\\U0001F600-\\U0001F64F\"  # emoticons\n",
    "                           u\"\\U0001F300-\\U0001F5FF\"  # symbols & pictographs\n",
    "                           u\"\\U0001F680-\\U0001F6FF\"  # transport & map symbols\n",
    "                           u\"\\U0001F1E0-\\U0001F1FF\"  # flags (iOS)\n",
    "                           u\"\\U00002702-\\U000027B0\"\n",
    "                           u\"\\U000024C2-\\U0001F251\"\n",
    "                           \"]+\", flags=re.UNICODE)\n",
    "    \n",
    "    # Remove more than one whitespace\n",
    "    text = re.sub(r\" +\", \" \", text)\n",
    "    \n",
    "    # Standardize elongated vowels:\n",
    "    '''\n",
    "    text_list = []\n",
    "    for word in text.split(' '):\n",
    "        elong_vowels = re.search(r'(\\w)\\1{2,}', word)\n",
    "        if elong_vowels:\n",
    "            word_shortened_two = re.sub(r'(\\w)\\1{2,}', r'\\1\\1', word)\n",
    "            word_shortened_one = re.sub(r'(\\w)\\1{2,}', r'\\1', word)\n",
    "            if word_shortened_two in words.words():\n",
    "                text_list.append(word_shortened_two)\n",
    "            elif word_shortened_one in words.words():\n",
    "                text_list.append(word_shortened_one)\n",
    "            else:\n",
    "                text_list.append(word)\n",
    "        else:\n",
    "            text_list.append(word)\n",
    "    text = ' '.join(text_list)\n",
    "    '''\n",
    "    \n",
    "    return text"
   ]
  },
  {
   "cell_type": "code",
   "execution_count": 100,
   "metadata": {},
   "outputs": [],
   "source": [
    "demo_phrase = 'Turn Something on Its Head\t'"
   ]
  },
  {
   "cell_type": "code",
   "execution_count": 101,
   "metadata": {},
   "outputs": [
    {
     "data": {
      "text/plain": [
       "'turn something on its head '"
      ]
     },
     "execution_count": 101,
     "metadata": {},
     "output_type": "execute_result"
    }
   ],
   "source": [
    "custom_preprocessor(demo_phrase)"
   ]
  },
  {
   "cell_type": "code",
   "execution_count": 105,
   "metadata": {},
   "outputs": [
    {
     "name": "stderr",
     "output_type": "stream",
     "text": [
      "C:\\Users\\MdeCL\\Anaconda3\\envs\\MyEnv\\lib\\site-packages\\ipykernel_launcher.py:1: SettingWithCopyWarning: \n",
      "A value is trying to be set on a copy of a slice from a DataFrame.\n",
      "Try using .loc[row_indexer,col_indexer] = value instead\n",
      "\n",
      "See the caveats in the documentation: https://pandas.pydata.org/pandas-docs/stable/user_guide/indexing.html#returning-a-view-versus-a-copy\n",
      "  \"\"\"Entry point for launching an IPython kernel.\n"
     ]
    }
   ],
   "source": [
    "data['N-gram_cleaned'] = data['N-gram'].apply(lambda x : custom_preprocessor(x))"
   ]
  },
  {
   "cell_type": "code",
   "execution_count": 107,
   "metadata": {},
   "outputs": [
    {
     "data": {
      "text/html": [
       "<div>\n",
       "<style scoped>\n",
       "    .dataframe tbody tr th:only-of-type {\n",
       "        vertical-align: middle;\n",
       "    }\n",
       "\n",
       "    .dataframe tbody tr th {\n",
       "        vertical-align: top;\n",
       "    }\n",
       "\n",
       "    .dataframe thead th {\n",
       "        text-align: right;\n",
       "    }\n",
       "</style>\n",
       "<table border=\"1\" class=\"dataframe\">\n",
       "  <thead>\n",
       "    <tr style=\"text-align: right;\">\n",
       "      <th></th>\n",
       "      <th>Sentence</th>\n",
       "      <th>N-gram</th>\n",
       "      <th>Idiom</th>\n",
       "      <th>N-gram_cleaned</th>\n",
       "    </tr>\n",
       "  </thead>\n",
       "  <tbody>\n",
       "    <tr>\n",
       "      <th>2328</th>\n",
       "      <td></td>\n",
       "      <td>Dirty dog</td>\n",
       "      <td>1</td>\n",
       "      <td>dirty dog</td>\n",
       "    </tr>\n",
       "    <tr>\n",
       "      <th>3580</th>\n",
       "      <td>The hair was curiously stirred, as if by breath or hot air; and, though the eyes were wide open, they were perfectly motionless.</td>\n",
       "      <td>they were perfectly</td>\n",
       "      <td>0</td>\n",
       "      <td>they were perfectly</td>\n",
       "    </tr>\n",
       "    <tr>\n",
       "      <th>8560</th>\n",
       "      <td>cried Scrooge with fervour; \"I could walk it blindfold.\"</td>\n",
       "      <td>Scrooge with</td>\n",
       "      <td>0</td>\n",
       "      <td>scrooge with</td>\n",
       "    </tr>\n",
       "    <tr>\n",
       "      <th>1183</th>\n",
       "      <td>\"What right have you to be dismal?</td>\n",
       "      <td>have you to be dismal</td>\n",
       "      <td>0</td>\n",
       "      <td>have you to be dismal</td>\n",
       "    </tr>\n",
       "    <tr>\n",
       "      <th>13174</th>\n",
       "      <td>And now Scrooge looked on more attentively than ever, when the master of the house, having his daughter leaning fondly on him, sat down with her a...</td>\n",
       "      <td>at his own fireside</td>\n",
       "      <td>0</td>\n",
       "      <td>at his own fireside</td>\n",
       "    </tr>\n",
       "    <tr>\n",
       "      <th>2863</th>\n",
       "      <td>The owner of one scant young nose, gnawed and mumbled by the hungry cold as bones are gnawed by dogs, stooped down at Scrooge's keyhole to regale ...</td>\n",
       "      <td>down at Scrooge</td>\n",
       "      <td>0</td>\n",
       "      <td>down at scrooge</td>\n",
       "    </tr>\n",
       "    <tr>\n",
       "      <th>28565</th>\n",
       "      <td>I am as giddy as a drunken man.</td>\n",
       "      <td>a drunken</td>\n",
       "      <td>0</td>\n",
       "      <td>a drunken</td>\n",
       "    </tr>\n",
       "    <tr>\n",
       "      <th>2060</th>\n",
       "      <td></td>\n",
       "      <td>Casting vote</td>\n",
       "      <td>1</td>\n",
       "      <td>casting vote</td>\n",
       "    </tr>\n",
       "    <tr>\n",
       "      <th>12166</th>\n",
       "      <td>That which promised happiness when we were one in heart, is fraught with misery now that we are two.</td>\n",
       "      <td>now that we</td>\n",
       "      <td>0</td>\n",
       "      <td>now that we</td>\n",
       "    </tr>\n",
       "    <tr>\n",
       "      <th>8056</th>\n",
       "      <td>Perhaps, Scrooge could not have told anybody why, if anybody could have asked him; but he had a special desire to see the Spirit in his cap; and b...</td>\n",
       "      <td>asked him</td>\n",
       "      <td>0</td>\n",
       "      <td>asked him</td>\n",
       "    </tr>\n",
       "    <tr>\n",
       "      <th>1939</th>\n",
       "      <td></td>\n",
       "      <td>Brighten up the day</td>\n",
       "      <td>1</td>\n",
       "      <td>brighten up the day</td>\n",
       "    </tr>\n",
       "    <tr>\n",
       "      <th>4871</th>\n",
       "      <td></td>\n",
       "      <td>Swings and roundabouts</td>\n",
       "      <td>1</td>\n",
       "      <td>swings and roundabouts</td>\n",
       "    </tr>\n",
       "    <tr>\n",
       "      <th>2763</th>\n",
       "      <td></td>\n",
       "      <td>Get your hopes up</td>\n",
       "      <td>1</td>\n",
       "      <td>get your hopes up</td>\n",
       "    </tr>\n",
       "    <tr>\n",
       "      <th>6238</th>\n",
       "      <td>Scrooge shivered, and wiped the perspiration from his brow.</td>\n",
       "      <td>from his brow</td>\n",
       "      <td>0</td>\n",
       "      <td>from his brow</td>\n",
       "    </tr>\n",
       "    <tr>\n",
       "      <th>2327</th>\n",
       "      <td></td>\n",
       "      <td>Dip your toes in the water</td>\n",
       "      <td>1</td>\n",
       "      <td>dip your toes in the water</td>\n",
       "    </tr>\n",
       "    <tr>\n",
       "      <th>1319</th>\n",
       "      <td></td>\n",
       "      <td>The Walls Have Ears We</td>\n",
       "      <td>1</td>\n",
       "      <td>the walls have ears we</td>\n",
       "    </tr>\n",
       "    <tr>\n",
       "      <th>11770</th>\n",
       "      <td>His former self turned down the lamps as he gave utterance to the wish; and Scrooge and the Ghost again stood side by side in the open air.</td>\n",
       "      <td>again stood side</td>\n",
       "      <td>0</td>\n",
       "      <td>again stood side</td>\n",
       "    </tr>\n",
       "    <tr>\n",
       "      <th>4169</th>\n",
       "      <td></td>\n",
       "      <td>Pick up the pace</td>\n",
       "      <td>1</td>\n",
       "      <td>pick up the pace</td>\n",
       "    </tr>\n",
       "    <tr>\n",
       "      <th>13327</th>\n",
       "      <td>said Scrooge in a broken voice, \"remove me from this place.\"</td>\n",
       "      <td>me from this</td>\n",
       "      <td>0</td>\n",
       "      <td>me from this</td>\n",
       "    </tr>\n",
       "    <tr>\n",
       "      <th>29571</th>\n",
       "      <td>It sent a pang across his heart to think how this old gentleman would look upon him when they met; but he knew what path lay straight before him, ...</td>\n",
       "      <td>path lay</td>\n",
       "      <td>0</td>\n",
       "      <td>path lay</td>\n",
       "    </tr>\n",
       "  </tbody>\n",
       "</table>\n",
       "</div>"
      ],
      "text/plain": [
       "                                                                                                                                                    Sentence  \\\n",
       "2328                                                                                                                                                           \n",
       "3580                        The hair was curiously stirred, as if by breath or hot air; and, though the eyes were wide open, they were perfectly motionless.   \n",
       "8560                                                                                                cried Scrooge with fervour; \"I could walk it blindfold.\"   \n",
       "1183                                                                                                                      \"What right have you to be dismal?   \n",
       "13174  And now Scrooge looked on more attentively than ever, when the master of the house, having his daughter leaning fondly on him, sat down with her a...   \n",
       "2863   The owner of one scant young nose, gnawed and mumbled by the hungry cold as bones are gnawed by dogs, stooped down at Scrooge's keyhole to regale ...   \n",
       "28565                                                                                                                        I am as giddy as a drunken man.   \n",
       "2060                                                                                                                                                           \n",
       "12166                                                   That which promised happiness when we were one in heart, is fraught with misery now that we are two.   \n",
       "8056   Perhaps, Scrooge could not have told anybody why, if anybody could have asked him; but he had a special desire to see the Spirit in his cap; and b...   \n",
       "1939                                                                                                                                                           \n",
       "4871                                                                                                                                                           \n",
       "2763                                                                                                                                                           \n",
       "6238                                                                                             Scrooge shivered, and wiped the perspiration from his brow.   \n",
       "2327                                                                                                                                                           \n",
       "1319                                                                                                                                                           \n",
       "11770            His former self turned down the lamps as he gave utterance to the wish; and Scrooge and the Ghost again stood side by side in the open air.   \n",
       "4169                                                                                                                                                           \n",
       "13327                                                                                           said Scrooge in a broken voice, \"remove me from this place.\"   \n",
       "29571  It sent a pang across his heart to think how this old gentleman would look upon him when they met; but he knew what path lay straight before him, ...   \n",
       "\n",
       "                           N-gram  Idiom              N-gram_cleaned  \n",
       "2328                    Dirty dog      1                   dirty dog  \n",
       "3580          they were perfectly      0         they were perfectly  \n",
       "8560                 Scrooge with      0                scrooge with  \n",
       "1183        have you to be dismal      0       have you to be dismal  \n",
       "13174         at his own fireside      0         at his own fireside  \n",
       "2863              down at Scrooge      0             down at scrooge  \n",
       "28565                   a drunken      0                   a drunken  \n",
       "2060                 Casting vote      1                casting vote  \n",
       "12166                 now that we      0                 now that we  \n",
       "8056                    asked him      0                   asked him  \n",
       "1939          Brighten up the day      1         brighten up the day  \n",
       "4871       Swings and roundabouts      1      swings and roundabouts  \n",
       "2763            Get your hopes up      1           get your hopes up  \n",
       "6238                from his brow      0               from his brow  \n",
       "2327   Dip your toes in the water      1  dip your toes in the water  \n",
       "1319       The Walls Have Ears We      1      the walls have ears we  \n",
       "11770            again stood side      0            again stood side  \n",
       "4169             Pick up the pace      1            pick up the pace  \n",
       "13327                me from this      0                me from this  \n",
       "29571                    path lay      0                    path lay  "
      ]
     },
     "execution_count": 107,
     "metadata": {},
     "output_type": "execute_result"
    }
   ],
   "source": [
    "data.iloc[0:20]"
   ]
  },
  {
   "cell_type": "markdown",
   "metadata": {},
   "source": [
    "## Optional extra preprocessing:"
   ]
  },
  {
   "cell_type": "code",
   "execution_count": 15,
   "metadata": {},
   "outputs": [],
   "source": [
    "# Remove stop words except 'not' and 'can'\n",
    "stop_words = set(stopwords.words('english'))  \n",
    "\n",
    "def remove_stop_words(text):\n",
    "    word_tokens = word_tokenize(text) \n",
    "    filtered_sent = ' '.join([w for w in word_tokens if not w in stop_words or w in ['not', 'can']])\n",
    "    return filtered_sent\n",
    "\n",
    "all_data['text_no_sw'] = all_data['text_cleaned'].apply(lambda x : remove_stop_words(x))"
   ]
  },
  {
   "cell_type": "code",
   "execution_count": 16,
   "metadata": {},
   "outputs": [],
   "source": [
    "# Lemmatize text\n",
    "def lem(text):\n",
    "    lemmed_sent = []\n",
    "    doc = spacy_en_model(text)\n",
    "    for token in doc:\n",
    "        if token.lemma_ != '-PRON-':\n",
    "            lemmed_sent.append(token.lemma_)\n",
    "    lemmed_sent = ' '.join(lemmed_sent)\n",
    "\n",
    "    return lemmed_sent"
   ]
  },
  {
   "cell_type": "code",
   "execution_count": 17,
   "metadata": {},
   "outputs": [
    {
     "data": {
      "text/plain": [
       "'deed be the reason of this earthquake may allah forgive all'"
      ]
     },
     "execution_count": 17,
     "metadata": {},
     "output_type": "execute_result"
    }
   ],
   "source": [
    "lem('our deeds are the reason of this earthquake may allah forgive us all')"
   ]
  },
  {
   "cell_type": "code",
   "execution_count": 18,
   "metadata": {},
   "outputs": [],
   "source": [
    "all_data['text_lemmatized'] = all_data['text_cleaned'].apply(lambda x : lem(x))\n",
    "all_data['text_no_sw_lemmatized'] = all_data['text_no_sw'].apply(lambda x : lem(x))"
   ]
  },
  {
   "cell_type": "markdown",
   "metadata": {},
   "source": [
    "## Training-test split:"
   ]
  },
  {
   "cell_type": "code",
   "execution_count": 108,
   "metadata": {},
   "outputs": [],
   "source": [
    "# Select type of preprocessed text to use\n",
    "text_type = 'N-gram_cleaned'\n",
    "\n",
    "X = data[text_type]\n",
    "Y = data['Idiom']"
   ]
  },
  {
   "cell_type": "code",
   "execution_count": 109,
   "metadata": {},
   "outputs": [],
   "source": [
    "from sklearn.model_selection import train_test_split\n",
    "\n",
    "xtrain, xtest, ytrain, ytest = train_test_split(X, Y, test_size = 0.1)"
   ]
  },
  {
   "cell_type": "markdown",
   "metadata": {},
   "source": [
    "## Vectorize text:"
   ]
  },
  {
   "cell_type": "code",
   "execution_count": 122,
   "metadata": {},
   "outputs": [],
   "source": [
    "# Create word index\n",
    "import keras\n",
    "from keras.preprocessing import sequence, text\n",
    "\n",
    "token = text.Tokenizer(num_words=None)\n",
    "max_len = 70\n",
    "\n",
    "token.fit_on_texts(list(xtrain) + list(xtest))\n",
    "\n",
    "xtrain_seq = token.texts_to_sequences(xtrain)\n",
    "xtest_seq = token.texts_to_sequences(xtest)\n",
    "\n",
    "# zero pad the sequences\n",
    "xtrain_pad = sequence.pad_sequences(xtrain_seq, maxlen=max_len)\n",
    "xtest_pad = sequence.pad_sequences(xtest_seq, maxlen=max_len)\n",
    "\n",
    "word_index = token.word_index"
   ]
  },
  {
   "cell_type": "code",
   "execution_count": 123,
   "metadata": {},
   "outputs": [
    {
     "data": {
      "text/plain": [
       "{'the': 1,\n",
       " 'a': 2,\n",
       " 'of': 3,\n",
       " 'to': 4,\n",
       " 'in': 5,\n",
       " 'and': 6,\n",
       " 'it': 7,\n",
       " 'was': 8,\n",
       " 'his': 9,\n",
       " 'he': 10,\n",
       " ...}"
      ]
     },
     "execution_count": 123,
     "metadata": {},
     "output_type": "execute_result"
    }
   ],
   "source": [
    "word_index"
   ]
  },
  {
   "cell_type": "code",
   "execution_count": 137,
   "metadata": {},
   "outputs": [],
   "source": [
    "# Create an embedding matrix for the words we have in the dataset\n",
    "embedding_matrix = np.zeros((len(word_index) + 1, 96))\n",
    "for word, i in word_index.items():\n",
    "    embedding_vector = spacy_en_model(word)[0].vector\n",
    "    if embedding_vector is not None:\n",
    "        embedding_matrix[i] = embedding_vector\n",
    "        \n",
    "np.savetxt(\"C:\\\\Users\\\\MdeCL\\\\Desktop\\\\Idiom-Classification-Project\\\\embedding_matrix.csv\", embedding_matrix, delimiter=\",\")"
   ]
  },
  {
   "cell_type": "code",
   "execution_count": 138,
   "metadata": {},
   "outputs": [],
   "source": [
    "embedding_matrix = np.loadtxt('C:\\\\Users\\\\MdeCL\\\\Desktop\\\\Idiom-Classification-Project\\\\embedding_matrix.csv', delimiter=\",\")"
   ]
  },
  {
   "cell_type": "markdown",
   "metadata": {},
   "source": [
    "# Model selection and training:"
   ]
  },
  {
   "cell_type": "markdown",
   "metadata": {},
   "source": [
    "## Baseline model:"
   ]
  },
  {
   "cell_type": "code",
   "execution_count": null,
   "metadata": {},
   "outputs": [],
   "source": []
  },
  {
   "cell_type": "markdown",
   "metadata": {},
   "source": [
    "## Deep learning model:"
   ]
  },
  {
   "cell_type": "code",
   "execution_count": 141,
   "metadata": {},
   "outputs": [],
   "source": [
    "from keras.utils import np_utils\n",
    "\n",
    "# Binarise labels for neural network\n",
    "ytrain_enc = np_utils.to_categorical(ytrain)\n",
    "ytest_enc = np_utils.to_categorical(ytest)"
   ]
  },
  {
   "cell_type": "code",
   "execution_count": 142,
   "metadata": {},
   "outputs": [],
   "source": [
    "from keras.models import Sequential\n",
    "\n",
    "from keras.layers import GlobalMaxPooling1D, Conv1D, MaxPooling1D, Flatten, Bidirectional, SpatialDropout1D\n",
    "from keras.layers.recurrent import LSTM, GRU\n",
    "from keras.layers.core import Dense, Activation, Dropout\n",
    "from keras.layers.embeddings import Embedding\n",
    "from keras.layers.normalization import BatchNormalization\n",
    "\n",
    "from keras.callbacks import EarlyStopping"
   ]
  },
  {
   "cell_type": "code",
   "execution_count": 150,
   "metadata": {},
   "outputs": [],
   "source": [
    "# A simple LSTM with embeddings and one dense layer\n",
    "model = Sequential()\n",
    "model.add(Embedding(len(word_index) + 1,\n",
    "                     96,\n",
    "                     weights=[embedding_matrix],\n",
    "                     input_length=max_len,\n",
    "                     trainable=False))\n",
    "# model.add(Dropout(0.2))\n",
    "model.add(LSTM(96))\n",
    "model.add(Dropout(0.2))\n",
    "model.add(Dense(2))\n",
    "model.add(Activation('softmax'))"
   ]
  },
  {
   "cell_type": "code",
   "execution_count": 151,
   "metadata": {},
   "outputs": [],
   "source": [
    "import keras.optimizers\n",
    "from keras.optimizers import Adam\n",
    "opt = keras.optimizers.Adam(learning_rate=0.0002)\n",
    "\n",
    "model.compile(loss='binary_crossentropy', optimizer=opt, metrics=['accuracy'])"
   ]
  },
  {
   "cell_type": "code",
   "execution_count": 152,
   "metadata": {},
   "outputs": [],
   "source": [
    "# Fit the model with early stopping callback\n",
    "earlystop = EarlyStopping(monitor='val_loss', min_delta=0, patience=3, verbose=0, mode='auto')"
   ]
  },
  {
   "cell_type": "code",
   "execution_count": 153,
   "metadata": {},
   "outputs": [
    {
     "name": "stdout",
     "output_type": "stream",
     "text": [
      "Epoch 1/8\n",
      "291/291 [==============================] - 14s 48ms/step - loss: 0.3662 - accuracy: 0.8354 - val_loss: 0.2802 - val_accuracy: 0.8813\n",
      "Epoch 2/8\n",
      "291/291 [==============================] - 14s 48ms/step - loss: 0.2647 - accuracy: 0.8894 - val_loss: 0.2517 - val_accuracy: 0.8939\n",
      "Epoch 3/8\n",
      "291/291 [==============================] - 14s 47ms/step - loss: 0.2358 - accuracy: 0.9027 - val_loss: 0.2335 - val_accuracy: 0.9046\n",
      "Epoch 4/8\n",
      "291/291 [==============================] - 13s 45ms/step - loss: 0.2184 - accuracy: 0.9099 - val_loss: 0.2230 - val_accuracy: 0.9138\n",
      "Epoch 5/8\n",
      "291/291 [==============================] - 14s 48ms/step - loss: 0.2027 - accuracy: 0.9174 - val_loss: 0.2091 - val_accuracy: 0.9133\n",
      "Epoch 6/8\n",
      "291/291 [==============================] - 14s 49ms/step - loss: 0.1907 - accuracy: 0.9226 - val_loss: 0.2060 - val_accuracy: 0.9172\n",
      "Epoch 7/8\n",
      "291/291 [==============================] - 15s 50ms/step - loss: 0.1788 - accuracy: 0.9288 - val_loss: 0.2011 - val_accuracy: 0.9225\n",
      "Epoch 8/8\n",
      "291/291 [==============================] - 15s 52ms/step - loss: 0.1712 - accuracy: 0.9319 - val_loss: 0.2009 - val_accuracy: 0.9196\n"
     ]
    }
   ],
   "source": [
    "history = model.fit(xtrain_pad,\n",
    "          y=ytrain_enc,\n",
    "          batch_size=64,\n",
    "          epochs=8,\n",
    "          verbose=1,\n",
    "          validation_data=(xtest_pad, ytest_enc),\n",
    "          callbacks=[earlystop]\n",
    "         )"
   ]
  },
  {
   "cell_type": "code",
   "execution_count": 155,
   "metadata": {},
   "outputs": [
    {
     "data": {
      "text/plain": [
       "<AxesSubplot:>"
      ]
     },
     "execution_count": 155,
     "metadata": {},
     "output_type": "execute_result"
    },
    {
     "data": {
      "image/png": "[encoded data removed]",
      "text/plain": [
       "<Figure size 432x288 with 1 Axes>"
      ]
     },
     "metadata": {
      "needs_background": "light"
     },
     "output_type": "display_data"
    }
   ],
   "source": [
    "history_df = pd.DataFrame(history.history)\n",
    "history_df['loss'].plot()\n",
    "history_df['val_loss'].plot()\n",
    "history_df['val_accuracy'].plot()"
   ]
  },
  {
   "cell_type": "markdown",
   "metadata": {},
   "source": [
    "## Make predictions:"
   ]
  },
  {
   "cell_type": "code",
   "execution_count": 156,
   "metadata": {},
   "outputs": [
    {
     "data": {
      "text/plain": [
       "29838           give him so much\n",
       "900          see the dingy cloud\n",
       "3338               jog my memory\n",
       "7022     have got into the works\n",
       "11325                   again to\n",
       "                  ...           \n",
       "7159                  to and fro\n",
       "7823                the occasion\n",
       "11770           again stood side\n",
       "1417                  i dare say\n",
       "627              implored him to\n",
       "Name: N-gram_cleaned, Length: 2064, dtype: object"
      ]
     },
     "execution_count": 156,
     "metadata": {},
     "output_type": "execute_result"
    }
   ],
   "source": [
    "xtest"
   ]
  },
  {
   "cell_type": "code",
   "execution_count": 157,
   "metadata": {},
   "outputs": [
    {
     "data": {
      "text/plain": [
       "29838    0\n",
       "900      0\n",
       "3338     1\n",
       "7022     0\n",
       "11325    0\n",
       "        ..\n",
       "7159     0\n",
       "7823     0\n",
       "11770    0\n",
       "1417     0\n",
       "627      0\n",
       "Name: Idiom, Length: 2064, dtype: int64"
      ]
     },
     "execution_count": 157,
     "metadata": {},
     "output_type": "execute_result"
    }
   ],
   "source": [
    "ytest"
   ]
  },
  {
   "cell_type": "code",
   "execution_count": 199,
   "metadata": {},
   "outputs": [
    {
     "name": "stdout",
     "output_type": "stream",
     "text": [
      "                   n-gram  target\n",
      "0  mutton dressed as lamb       1\n"
     ]
    }
   ],
   "source": [
    "#demo_data = xtest.sample(20)\n",
    "demo_data = pd.Series(['mutton dressed as lamb'])\n",
    "\n",
    "x_val_seq = token.texts_to_sequences(demo_data)\n",
    "x_val_pad = sequence.pad_sequences(x_val_seq, maxlen=max_len)\n",
    "\n",
    "prediction = model.predict_classes(x_val_pad)\n",
    "\n",
    "output = pd.DataFrame({'n-gram': demo_data, 'target': prediction})\n",
    "print(output)"
   ]
  }
 ],
 "metadata": {
  "kernelspec": {
   "display_name": "Python 3",
   "language": "python",
   "name": "python3"
  },
  "language_info": {
   "codemirror_mode": {
    "name": "ipython",
    "version": 3
   },
   "file_extension": ".py",
   "mimetype": "text/x-python",
   "name": "python",
   "nbconvert_exporter": "python",
   "pygments_lexer": "ipython3",
   "version": "3.7.6"
  },
  "toc": {
   "base_numbering": 1,
   "nav_menu": {},
   "number_sections": true,
   "sideBar": true,
   "skip_h1_title": false,
   "title_cell": "Table of Contents",
   "title_sidebar": "Contents",
   "toc_cell": false,
   "toc_position": {},
   "toc_section_display": true,
   "toc_window_display": false
  }
 },
 "nbformat": 4,
 "nbformat_minor": 4
}
